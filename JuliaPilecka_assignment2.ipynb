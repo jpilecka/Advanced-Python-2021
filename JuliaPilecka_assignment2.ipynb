{
 "cells": [
  {
   "cell_type": "markdown",
   "metadata": {},
   "source": [
    "# Advanced Python for Cognitive Scientists\n",
    "### Marcin Lesniak, Ph.D.\n",
    "Warszawa 2021/22"
   ]
  },
  {
   "cell_type": "markdown",
   "metadata": {},
   "source": [
    "## Assignment 2.\n",
    "\n",
    "The file `tms_phosphenes.csv` contains results of TMS mapping of one participant's occipital cortex. To perform the mapping a grid of targets was used, similar to this one:\n",
    "\n",
    "<img src=\"https://drive.google.com/uc?export=view&id=1ss2bnYNyahMhgteZx0-x4JSv9RbFsnuB\" style=\"height: 200px; width: auto\">\n",
    "\n",
    "\n",
    "The mapping procedure was repeated 10 times. Thus, each of 10 grids (15 x 21) contain individual responses to a single TMS pulse. `1` means that the participant reported phosphenes directly after the TMS pulse application; `0` means failure of phosphene elicitation from that particular site.\n",
    "\n",
    "Your task is to: \n",
    "1. Merge all grids so that they represent probability of phosphene elicitation in all sites - use NumPy array.\n",
    "2. Using as a threshold 60% probability, replace all subthreshold probabilities with `0`.\n",
    "3. Add **x** and **y** coordinates, so that the central point of the grid was represented as `x = 0` and `y = 0`:\n",
    "    * Add x axis (ranging from -10 to 10) on the top of the array\n",
    "    * Add y axis (ranging from -7 to 7) on the left side of the array\n",
    "    \n",
    "    The final array should like like this:\n",
    "    \n",
    "    ```\n",
    "     [[  0 -10  -9  -8  -7  -6  -5  -4  -3  -2  -1   0   1   2   3   4   5   6   7   8   9  10]\n",
    "       [ -7   0   0   0   0   0   0   0   0   0   0   0   0   0   0   0   0   0   0   0   0   0]\n",
    "       [ -6   0   0   0   0   0   0   0   0   0   0   0   0   0   0   0   0   0   0   0   0   0]\n",
    "       [ -5   0   0   0   0   0   0   0   0   0   0   0   0   0   0   0   0   0   0   0   0   0]\n",
    "       [ -4   0   0   0   0   0   0   0   0   0   0   0   0   0   0   0   0   0   0   0   0   0]\n",
    "       [ -3   0   0   0   0   0   0   0  70   0  60   0   0   0   0   0   0   0   0   0   0   0]\n",
    "       [ -2   0   0   0   0   0   0  80   0  80 100  70  60  70  60   0   0  70   0   0   0   0]\n",
    "       [ -1   0   0   0   0   0  60  80 100  80  60  80 100  80  80  80  80   0   0   0   0   0]\n",
    "       [  0   0   0   0   0  60  70  60  80  80  80  90  80  70  80  70  60   0   0   0   0   0]\n",
    "       [  1   0   0   0   0   0  80  60   0  80  80  80  90  70  80   0  90   0   0   0   0   0]\n",
    "       [  2   0   0   0   0   0   0   0  90  70  70  60  60  80   0   0   0   0   0   0   0   0]\n",
    "       [  3   0   0   0   0   0   0   0   0   0   0  60   0   0   0   0   0   0   0   0   0   0]\n",
    "       [  4   0   0   0   0   0   0   0   0   0   0   0   0   0   0   0   0   0   0   0   0   0]\n",
    "       [  5   0   0   0   0   0   0   0   0   0   0   0   0   0   0   0   0   0   0   0   0   0]\n",
    "       [  6   0   0   0   0   0   0   0   0   0   0   0   0   0   0   0   0   0   0   0   0   0]\n",
    "       [  7   0   0   0   0   0   0   0   0   0   0   0   0   0   0   0   0   0   0   0   0   0]]\n",
    "    ```\n",
    "    \n",
    "4. Display coordinates of all sites/targets where probabilities were maximal, e.g. like this:\n",
    "\n",
    "    ```\n",
    "    Nr 1.\n",
    "    x: -1, y: -2\n",
    "\n",
    "    Nr 2.\n",
    "    x: -3, y: -1\n",
    "\n",
    "    Nr 3.\n",
    "    x: 1, y: -1\n",
    "    ```\n",
    "\n",
    "HINTS:\n",
    "* In order to read the file directly to a NumPy array you may use: \n",
    "```python\n",
    "my_array = np.genfromtxt(path_to_file, delimiter=';', dtype = int)\n",
    "```\n",
    "* Review the CSV file and see how the data is arranged, before you start writing the code.\n",
    "* Array vectorization (scalar and array-array), aggregation methods, as well as boolean indexing will be very helpful. "
   ]
  },
  {
   "cell_type": "code",
   "execution_count": 1,
   "metadata": {},
   "outputs": [],
   "source": [
    "import numpy as np\n",
    "\n",
    "# this will ensure proper alignment of arrays in the output of jupyter notebook (without wrapping)\n",
    "np.set_printoptions(linewidth = 120)"
   ]
  },
  {
   "cell_type": "code",
   "execution_count": 2,
   "metadata": {},
   "outputs": [],
   "source": [
    "# The path needs to be changed accordingly; does genfromtxt accept url links as a file path though?\n",
    "path='C:/Users/julia.DESKTOP-0ILPF3P/OneDrive/Desktop/STUDIAAA/kognitywistyka/K2/K2.1/sem1/advanced python/assignment 2/tms_phosphenes.csv'\n",
    "\n",
    "my_array = np.genfromtxt(path, delimiter=';', dtype = int) # huge array of all responses\n",
    "A = np.delete(my_array, np.where(my_array[:,0]==-1)[0], 0) # deleting the rows filled with -1 (rows filled with ;;;;; in the csv file)\n",
    "\n",
    "# Generating grids from the initial array\n",
    "# Kind of a tedious method, totally not what I wanted to do, but I had an art block and couldn't come up with a better idea\n",
    "grid1=A[:15,:]\n",
    "grid2=A[15:30,:]\n",
    "grid3=A[30:45,:]\n",
    "grid4=A[45:60,:]\n",
    "grid5=A[60:75,:]\n",
    "grid6=A[75:90,:]\n",
    "grid7=A[90:105,:]\n",
    "grid8=A[105:120,:]\n",
    "grid9=A[120:135,:]\n",
    "grid10=A[135:150,:]"
   ]
  },
  {
   "cell_type": "code",
   "execution_count": 3,
   "metadata": {},
   "outputs": [
    {
     "data": {
      "text/plain": [
       "array([[  0,   0,   0,   0,  10,   0,   0,  10,   0,   0,   0,   0,   0,   0,   0,   0,   0,   0,  10,   0,   0],\n",
       "       [  0,  10,   0,   0,   0,   0,   0,  10,  20,   0,  10,   0,   0,   0,   0,   0,   0,  20,  10,  10,   0],\n",
       "       [  0,   0,   0,  10,  40,   0,   0,  40,   0,  20,   0,   0,  20,   0,   0,   0,   0,   0,   0,  10,   0],\n",
       "       [  0,   0,  10,   0,   0,   0,   0,   0,  10,  50,   0,  10,  40,  10,   0,   0,  10,   0,  10,   0,   0],\n",
       "       [  0,  10,  10,   0,   0,   0,  30,  70,  50,  60,  50,  50,  10,  50,   0,  20,  10,   0,   0,   0,   0],\n",
       "       [  0,   0,   0,  30,   0,  10,  80,  50,  80, 100,  70,  60,  70,  60,  30,   0,  70,  10,   0,   0,   0],\n",
       "       [  0,   0,   0,  10,  30,  60,  80, 100,  80,  60,  80, 100,  80,  80,  80,  80,  20,  10,   0,   0,   0],\n",
       "       [  0,  10,   0,   0,  60,  70,  60,  80,  80,  80,  90,  80,  70,  80,  70,  60,  40,  10,  30,  10,   0],\n",
       "       [ 10,  10,   0,  20,  10,  80,  60,  10,  80,  80,  80,  90,  70,  80,  50,  90,  20,  20,   0,   0,   0],\n",
       "       [  0,   0,   0,   0,  10,  20,  20,  90,  70,  70,  60,  60,  80,  50,  10,  50,   0,  40,  10,   0,   0],\n",
       "       [  0,   0,   0,  30,  10,  10,   0,  30,   0,  10,  60,  40,   0,  10,   0,  10,  10,  10,   0,   0,   0],\n",
       "       [ 10,   0,   0,  40,  40,  10,  10,   0,  30,  10,   0,   0,  20,   0,   0,   0,   0,  10,   0,  10,   0],\n",
       "       [  0,  10,   0,   0,   0,  10,  10,   0,  10,  20,  20,   0,  30,  10,   0,  20,   0,   0,   0,  10,  10],\n",
       "       [  0,   0,   0,  10,   0,  10,  10,   0,   0,   0,  20,  10,  10,   0,  10,   0,  10,  10,  10,   0,   0],\n",
       "       [  0,   0,   0,   0,   0,   0,   0,   0,   0,  10,   0,  10,   0,   0,   0,   0,   0,   0,   0,   0,   0]])"
      ]
     },
     "execution_count": 3,
     "metadata": {},
     "output_type": "execute_result"
    }
   ],
   "source": [
    "# TASK 1: merging all grids and multiplying values by 10 to represent percentages\n",
    "merged_grid=(grid1+grid2+grid3+grid4+grid5+grid6+grid7+grid8+grid9+grid10)*10\n",
    "merged_grid"
   ]
  },
  {
   "cell_type": "code",
   "execution_count": 4,
   "metadata": {},
   "outputs": [
    {
     "data": {
      "text/plain": [
       "array([[  0,   0,   0,   0,   0,   0,   0,   0,   0,   0,   0,   0,   0,   0,   0,   0,   0,   0,   0,   0,   0],\n",
       "       [  0,   0,   0,   0,   0,   0,   0,   0,   0,   0,   0,   0,   0,   0,   0,   0,   0,   0,   0,   0,   0],\n",
       "       [  0,   0,   0,   0,   0,   0,   0,   0,   0,   0,   0,   0,   0,   0,   0,   0,   0,   0,   0,   0,   0],\n",
       "       [  0,   0,   0,   0,   0,   0,   0,   0,   0,   0,   0,   0,   0,   0,   0,   0,   0,   0,   0,   0,   0],\n",
       "       [  0,   0,   0,   0,   0,   0,   0,  70,   0,  60,   0,   0,   0,   0,   0,   0,   0,   0,   0,   0,   0],\n",
       "       [  0,   0,   0,   0,   0,   0,  80,   0,  80, 100,  70,  60,  70,  60,   0,   0,  70,   0,   0,   0,   0],\n",
       "       [  0,   0,   0,   0,   0,  60,  80, 100,  80,  60,  80, 100,  80,  80,  80,  80,   0,   0,   0,   0,   0],\n",
       "       [  0,   0,   0,   0,  60,  70,  60,  80,  80,  80,  90,  80,  70,  80,  70,  60,   0,   0,   0,   0,   0],\n",
       "       [  0,   0,   0,   0,   0,  80,  60,   0,  80,  80,  80,  90,  70,  80,   0,  90,   0,   0,   0,   0,   0],\n",
       "       [  0,   0,   0,   0,   0,   0,   0,  90,  70,  70,  60,  60,  80,   0,   0,   0,   0,   0,   0,   0,   0],\n",
       "       [  0,   0,   0,   0,   0,   0,   0,   0,   0,   0,  60,   0,   0,   0,   0,   0,   0,   0,   0,   0,   0],\n",
       "       [  0,   0,   0,   0,   0,   0,   0,   0,   0,   0,   0,   0,   0,   0,   0,   0,   0,   0,   0,   0,   0],\n",
       "       [  0,   0,   0,   0,   0,   0,   0,   0,   0,   0,   0,   0,   0,   0,   0,   0,   0,   0,   0,   0,   0],\n",
       "       [  0,   0,   0,   0,   0,   0,   0,   0,   0,   0,   0,   0,   0,   0,   0,   0,   0,   0,   0,   0,   0],\n",
       "       [  0,   0,   0,   0,   0,   0,   0,   0,   0,   0,   0,   0,   0,   0,   0,   0,   0,   0,   0,   0,   0]])"
      ]
     },
     "execution_count": 4,
     "metadata": {},
     "output_type": "execute_result"
    }
   ],
   "source": [
    "# TASK 2: replacing all subthreshold values with 0\n",
    "merged_grid[merged_grid<60]=0\n",
    "merged_grid"
   ]
  },
  {
   "cell_type": "code",
   "execution_count": 5,
   "metadata": {},
   "outputs": [
    {
     "data": {
      "text/plain": [
       "array([[  0, -10,  -9,  -8,  -7,  -6,  -5,  -4,  -3,  -2,  -1,   0,   1,   2,   3,   4,   5,   6,   7,   8,   9,  10],\n",
       "       [ -7,   0,   0,   0,   0,   0,   0,   0,   0,   0,   0,   0,   0,   0,   0,   0,   0,   0,   0,   0,   0,   0],\n",
       "       [ -6,   0,   0,   0,   0,   0,   0,   0,   0,   0,   0,   0,   0,   0,   0,   0,   0,   0,   0,   0,   0,   0],\n",
       "       [ -5,   0,   0,   0,   0,   0,   0,   0,   0,   0,   0,   0,   0,   0,   0,   0,   0,   0,   0,   0,   0,   0],\n",
       "       [ -4,   0,   0,   0,   0,   0,   0,   0,   0,   0,   0,   0,   0,   0,   0,   0,   0,   0,   0,   0,   0,   0],\n",
       "       [ -3,   0,   0,   0,   0,   0,   0,   0,  70,   0,  60,   0,   0,   0,   0,   0,   0,   0,   0,   0,   0,   0],\n",
       "       [ -2,   0,   0,   0,   0,   0,   0,  80,   0,  80, 100,  70,  60,  70,  60,   0,   0,  70,   0,   0,   0,   0],\n",
       "       [ -1,   0,   0,   0,   0,   0,  60,  80, 100,  80,  60,  80, 100,  80,  80,  80,  80,   0,   0,   0,   0,   0],\n",
       "       [  0,   0,   0,   0,   0,  60,  70,  60,  80,  80,  80,  90,  80,  70,  80,  70,  60,   0,   0,   0,   0,   0],\n",
       "       [  1,   0,   0,   0,   0,   0,  80,  60,   0,  80,  80,  80,  90,  70,  80,   0,  90,   0,   0,   0,   0,   0],\n",
       "       [  2,   0,   0,   0,   0,   0,   0,   0,  90,  70,  70,  60,  60,  80,   0,   0,   0,   0,   0,   0,   0,   0],\n",
       "       [  3,   0,   0,   0,   0,   0,   0,   0,   0,   0,   0,  60,   0,   0,   0,   0,   0,   0,   0,   0,   0,   0],\n",
       "       [  4,   0,   0,   0,   0,   0,   0,   0,   0,   0,   0,   0,   0,   0,   0,   0,   0,   0,   0,   0,   0,   0],\n",
       "       [  5,   0,   0,   0,   0,   0,   0,   0,   0,   0,   0,   0,   0,   0,   0,   0,   0,   0,   0,   0,   0,   0],\n",
       "       [  6,   0,   0,   0,   0,   0,   0,   0,   0,   0,   0,   0,   0,   0,   0,   0,   0,   0,   0,   0,   0,   0],\n",
       "       [  7,   0,   0,   0,   0,   0,   0,   0,   0,   0,   0,   0,   0,   0,   0,   0,   0,   0,   0,   0,   0,   0]])"
      ]
     },
     "execution_count": 5,
     "metadata": {},
     "output_type": "execute_result"
    }
   ],
   "source": [
    "# TASK 3: adding x and y axes to the grid\n",
    "\n",
    "x_axis=np.arange(-10,11)\n",
    "\n",
    "y_axis=np.array([0]) # started creating y axis by 0, appending it by an array ranging from -7 to 7\n",
    "y_axis=np.hstack((y_axis,np.arange(-7,8)))\n",
    "\n",
    "X=np.vstack((x_axis,merged_grid)) # adding x axis to the merged grid, creating a temporary grid X\n",
    "final=np.hstack((y_axis.reshape(16,1),X)) # adding y axis to the temporary grid X, creating the final grid\n",
    "\n",
    "final"
   ]
  },
  {
   "cell_type": "code",
   "execution_count": 6,
   "metadata": {},
   "outputs": [
    {
     "name": "stdout",
     "output_type": "stream",
     "text": [
      "Probabilities were maximal at:\n",
      "Nr 1.: x = -1 y = -2 \n",
      "Nr 2.: x = -3 y = -1 \n",
      "Nr 3.: x = 1 y = -1\n"
     ]
    }
   ],
   "source": [
    "# TASK 4: displaying the coordinates of all sites where probabilities were maximal\n",
    "\n",
    "ind=np.asarray(np.where(final==100)).T # getting indices of all 'maximal' sites in an easy-to-read array\n",
    "\n",
    "print('Probabilities were maximal at:\\nNr 1.: x =',final[0,ind[0,1]],'y =',final[ind[0,0],0],'\\nNr 2.: x =',final[0,ind[1,1]],'y =',final[ind[1,0],0],'\\nNr 3.: x =',final[0,ind[2,1]],'y =',final[ind[2,0],0])"
   ]
  }
 ],
 "metadata": {
  "kernelspec": {
   "display_name": "Python 3 (ipykernel)",
   "language": "python",
   "name": "python3"
  },
  "language_info": {
   "codemirror_mode": {
    "name": "ipython",
    "version": 3
   },
   "file_extension": ".py",
   "mimetype": "text/x-python",
   "name": "python",
   "nbconvert_exporter": "python",
   "pygments_lexer": "ipython3",
   "version": "3.9.7"
  }
 },
 "nbformat": 4,
 "nbformat_minor": 4
}
